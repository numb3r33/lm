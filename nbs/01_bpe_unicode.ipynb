{
 "cells": [
  {
   "cell_type": "markdown",
   "metadata": {},
   "source": [
    "# Unicode Problems & Answers\n",
    "\n",
    "> This notebook documents answers to specific Unicode questions as part of the project."
   ]
  },
  {
   "cell_type": "markdown",
   "metadata": {},
   "source": [
    "## Problem (unicode1): Understanding Unicode\n",
    "\n",
    "*(Answers to be filled in here)*"
   ]
  },
  {
   "cell_type": "markdown",
   "metadata": {},
   "source": [
    "## Problem (unicode2): Unicode Encodings\n",
    "\n",
    "*(Answers to be filled in here)*"
   ]
  }
 ],
 "metadata": {
  "kernelspec": {
   "display_name": "python3",
   "language": "python",
   "name": "python3"
  }
 },
 "nbformat": 4,
 "nbformat_minor": 4
}
